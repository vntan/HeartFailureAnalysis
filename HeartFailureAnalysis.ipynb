{
 "cells": [
  {
   "cell_type": "markdown",
   "id": "551eba7c",
   "metadata": {},
   "source": [
    "\n",
    "<font size=\"8\"><center>**Heart Failure Analysis**</center></font>"
   ]
  },
  {
   "cell_type": "markdown",
   "id": "1dbe5683",
   "metadata": {
    "toc": true
   },
   "source": [
    "<h1>Table of Contents<span class=\"tocSkip\"></span></h1>\n",
    "<div class=\"toc\"><ul class=\"toc-item\"><li><span><a href=\"#Group-information\" data-toc-modified-id=\"Group-information-1\"><span class=\"toc-item-num\">1&nbsp;&nbsp;</span>Group information</a></span></li><li><span><a href=\"#Dataset-information\" data-toc-modified-id=\"Dataset-information-2\"><span class=\"toc-item-num\">2&nbsp;&nbsp;</span>Dataset information</a></span><ul class=\"toc-item\"><li><span><a href=\"#Subject-of-the-data\" data-toc-modified-id=\"Subject-of-the-data-2.1\"><span class=\"toc-item-num\">2.1&nbsp;&nbsp;</span>Subject of the data</a></span></li><li><span><a href=\"#Source-of-the-data-and-how-this-dataset-collected?\" data-toc-modified-id=\"Source-of-the-data-and-how-this-dataset-collected?-2.2\"><span class=\"toc-item-num\">2.2&nbsp;&nbsp;</span>Source of the data and how this dataset collected?</a></span></li><li><span><a href=\"#Copyright\" data-toc-modified-id=\"Copyright-2.3\"><span class=\"toc-item-num\">2.3&nbsp;&nbsp;</span>Copyright</a></span></li></ul></li><li><span><a href=\"#Data-exploration\" data-toc-modified-id=\"Data-exploration-3\"><span class=\"toc-item-num\">3&nbsp;&nbsp;</span>Data exploration</a></span><ul class=\"toc-item\"><li><span><a href=\"#Load-the-dataset\" data-toc-modified-id=\"Load-the-dataset-3.1\"><span class=\"toc-item-num\">3.1&nbsp;&nbsp;</span>Load the dataset</a></span></li><li><span><a href=\"#Get-size-of-the-dataset\" data-toc-modified-id=\"Get-size-of-the-dataset-3.2\"><span class=\"toc-item-num\">3.2&nbsp;&nbsp;</span>Get size of the dataset</a></span></li><li><span><a href=\"#Exploring-the-rows\" data-toc-modified-id=\"Exploring-the-rows-3.3\"><span class=\"toc-item-num\">3.3&nbsp;&nbsp;</span>Exploring the rows</a></span><ul class=\"toc-item\"><li><span><a href=\"#Meaning-of-each-rows\" data-toc-modified-id=\"Meaning-of-each-rows-3.3.1\"><span class=\"toc-item-num\">3.3.1&nbsp;&nbsp;</span>Meaning of each rows</a></span></li><li><span><a href=\"#Check-the-duplicated-row\" data-toc-modified-id=\"Check-the-duplicated-row-3.3.2\"><span class=\"toc-item-num\">3.3.2&nbsp;&nbsp;</span>Check the duplicated row</a></span></li></ul></li><li><span><a href=\"#Exploring-the-columns\" data-toc-modified-id=\"Exploring-the-columns-3.4\"><span class=\"toc-item-num\">3.4&nbsp;&nbsp;</span>Exploring the columns</a></span><ul class=\"toc-item\"><li><span><a href=\"#Meaning-of-the-columns\" data-toc-modified-id=\"Meaning-of-the-columns-3.4.1\"><span class=\"toc-item-num\">3.4.1&nbsp;&nbsp;</span>Meaning of the columns</a></span></li><li><span><a href=\"#Datatype-of-each-columns\" data-toc-modified-id=\"Datatype-of-each-columns-3.4.2\"><span class=\"toc-item-num\">3.4.2&nbsp;&nbsp;</span>Datatype of each columns</a></span></li><li><span><a href=\"#Explore-numeric-column(s)\" data-toc-modified-id=\"Explore-numeric-column(s)-3.4.3\"><span class=\"toc-item-num\">3.4.3&nbsp;&nbsp;</span>Explore numeric column(s)</a></span></li><li><span><a href=\"#Explore-categorical-column(s)\" data-toc-modified-id=\"Explore-categorical-column(s)-3.4.4\"><span class=\"toc-item-num\">3.4.4&nbsp;&nbsp;</span>Explore categorical column(s)</a></span><ul class=\"toc-item\"><li><span><a href=\"#Explore-the-binary-attributes\" data-toc-modified-id=\"Explore-the-binary-attributes-3.4.4.1\"><span class=\"toc-item-num\">3.4.4.1&nbsp;&nbsp;</span>Explore the binary attributes</a></span></li><li><span><a href=\"#Explore-object-attribute\" data-toc-modified-id=\"Explore-object-attribute-3.4.4.2\"><span class=\"toc-item-num\">3.4.4.2&nbsp;&nbsp;</span>Explore object attribute</a></span></li></ul></li><li><span><a href=\"#Further-explore\" data-toc-modified-id=\"Further-explore-3.4.5\"><span class=\"toc-item-num\">3.4.5&nbsp;&nbsp;</span>Further explore</a></span></li></ul></li></ul></li><li><span><a href=\"#Asking-meaningful-questions-and-answering-them\" data-toc-modified-id=\"Asking-meaningful-questions-and-answering-them-4\"><span class=\"toc-item-num\">4&nbsp;&nbsp;</span>Asking meaningful questions and answering them</a></span><ul class=\"toc-item\"><li><span><a href=\"#How-to-detect-people-who-have-heart-disease-by-those-symptoms?\" data-toc-modified-id=\"How-to-detect-people-who-have-heart-disease-by-those-symptoms?-4.1\"><span class=\"toc-item-num\">4.1&nbsp;&nbsp;</span>How to detect people who have heart disease by those symptoms?</a></span><ul class=\"toc-item\"><li><span><a href=\"#Purposes\" data-toc-modified-id=\"Purposes-4.1.1\"><span class=\"toc-item-num\">4.1.1&nbsp;&nbsp;</span>Purposes</a></span></li><li><span><a href=\"#Pre-processing\" data-toc-modified-id=\"Pre-processing-4.1.2\"><span class=\"toc-item-num\">4.1.2&nbsp;&nbsp;</span>Pre-processing</a></span></li><li><span><a href=\"#Analysis\" data-toc-modified-id=\"Analysis-4.1.3\"><span class=\"toc-item-num\">4.1.3&nbsp;&nbsp;</span>Analysis</a></span></li></ul></li><li><span><a href=\"#Which-factors-leading-to-the-heart-disease?\" data-toc-modified-id=\"Which-factors-leading-to-the-heart-disease?-4.2\"><span class=\"toc-item-num\">4.2&nbsp;&nbsp;</span>Which factors leading to the heart disease?</a></span><ul class=\"toc-item\"><li><span><a href=\"#Purposes\" data-toc-modified-id=\"Purposes-4.2.1\"><span class=\"toc-item-num\">4.2.1&nbsp;&nbsp;</span>Purposes</a></span></li><li><span><a href=\"#Pre-processing\" data-toc-modified-id=\"Pre-processing-4.2.2\"><span class=\"toc-item-num\">4.2.2&nbsp;&nbsp;</span>Pre-processing</a></span></li><li><span><a href=\"#Analysis\" data-toc-modified-id=\"Analysis-4.2.3\"><span class=\"toc-item-num\">4.2.3&nbsp;&nbsp;</span>Analysis</a></span></li></ul></li></ul></li><li><span><a href=\"#Reference\" data-toc-modified-id=\"Reference-5\"><span class=\"toc-item-num\">5&nbsp;&nbsp;</span>Reference</a></span></li></ul></div>"
   ]
  },
  {
   "cell_type": "markdown",
   "id": "5d732ae7",
   "metadata": {},
   "source": [
    "# Group information"
   ]
  },
  {
   "cell_type": "markdown",
   "id": "a15a4eae",
   "metadata": {},
   "source": [
    "| ID       | Name        | \n",
    "|:--------:|:------------|\n",
    "| 20127323 | Võ Nhật Tân |\n",
    "| 20127447 | Ngô Đức Bảo |\n"
   ]
  },
  {
   "cell_type": "markdown",
   "id": "9fbd39fb",
   "metadata": {},
   "source": [
    "# Dataset information"
   ]
  },
  {
   "cell_type": "markdown",
   "id": "0a321444",
   "metadata": {},
   "source": [
    "## Subject of the data\n",
    "- Heart failure is a common event caused by cardiovascular diseases (CVDs), which are the main reason leading to death globally. As a result, people with cardiovascular disease or who are at high cardiovascular risk (due to the presence of one or more risk factors such as hypertension, diabetes, hyperlipidaemia or already established disease) need early detection and management."
   ]
  },
  {
   "cell_type": "markdown",
   "id": "fcb106ee",
   "metadata": {},
   "source": [
    "## Source of the data and how this dataset collected?\n",
    "- This dataset is collected by FEDESORIANO in the Kaggle. It can be found in that link: [Dataset Link](https://www.kaggle.com/datasets/fedesoriano/heart-failure-prediction)\n",
    "- This dataset was created by combining different datasets already available independently but not combined before. In this dataset, 5 heart datasets are combined over 11 common features which makes it the largest heart disease dataset available so far for research purposes. The five datasets used for its curation are:\n",
    "\n",
    "    * ***Cleveland***: 303 observations\n",
    "    * ***Hungarian***: 294 observations\n",
    "    * ***Switzerland***: 123 observations\n",
    "    * ***Long Beach VA***: 200 observations\n",
    "    * ***Stalog (Heart) Data Set***: 270 observations\n",
    "    \n",
    "    \n",
    "        ==> Total: 1190 observations\n",
    "        Duplicated: 272 observations\n",
    "        Final dataset: 918 observations\n",
    "\n",
    "- Every dataset used can be found under the Index of heart disease datasets from UCI Machine Learning Repository on the following link: https://archive.ics.uci.edu/ml/machine-learning-databases/heart-disease/"
   ]
  },
  {
   "cell_type": "markdown",
   "id": "6a6f5a97",
   "metadata": {},
   "source": [
    "## Copyright\n",
    "- The data is free for sharing, creating and adapting. This license can be seen in that [License Link](https://opendatacommons.org/licenses/odbl/1-0/).\n",
    "- The creators of this dataset:\n",
    "    1. Hungarian Institute of Cardiology. Budapest: Andras Janosi, M.D.\n",
    "    2. University Hospital, Zurich, Switzerland: William Steinbrunn, M.D.\n",
    "    3. University Hospital, Basel, Switzerland: Matthias Pfisterer, M.D.\n",
    "    4. V.A. Medical Center, Long Beach and Cleveland Clinic Foundation: Robert Detrano, M.D., Ph.D.\n",
    "- Donor:\n",
    "    * David W. Aha (aha '@' ics.uci.edu) (714) 856-8779\n"
   ]
  },
  {
   "cell_type": "markdown",
   "id": "648ad305",
   "metadata": {},
   "source": [
    "# Data exploration"
   ]
  },
  {
   "cell_type": "code",
   "execution_count": 1,
   "id": "86c9618e",
   "metadata": {},
   "outputs": [],
   "source": [
    "import numpy as np\n",
    "import pandas as pd\n",
    "import matplotlib.pyplot as plt\n",
    "import seaborn as sns"
   ]
  },
  {
   "cell_type": "markdown",
   "id": "52a00d77",
   "metadata": {},
   "source": [
    "## Load the dataset"
   ]
  },
  {
   "cell_type": "code",
   "execution_count": 2,
   "id": "e7140e2f",
   "metadata": {},
   "outputs": [
    {
     "data": {
      "text/html": [
       "<div>\n",
       "<style scoped>\n",
       "    .dataframe tbody tr th:only-of-type {\n",
       "        vertical-align: middle;\n",
       "    }\n",
       "\n",
       "    .dataframe tbody tr th {\n",
       "        vertical-align: top;\n",
       "    }\n",
       "\n",
       "    .dataframe thead th {\n",
       "        text-align: right;\n",
       "    }\n",
       "</style>\n",
       "<table border=\"1\" class=\"dataframe\">\n",
       "  <thead>\n",
       "    <tr style=\"text-align: right;\">\n",
       "      <th></th>\n",
       "      <th>Age</th>\n",
       "      <th>Sex</th>\n",
       "      <th>ChestPainType</th>\n",
       "      <th>RestingBP</th>\n",
       "      <th>Cholesterol</th>\n",
       "      <th>FastingBS</th>\n",
       "      <th>RestingECG</th>\n",
       "      <th>MaxHR</th>\n",
       "      <th>ExerciseAngina</th>\n",
       "      <th>Oldpeak</th>\n",
       "      <th>ST_Slope</th>\n",
       "      <th>HeartDisease</th>\n",
       "    </tr>\n",
       "  </thead>\n",
       "  <tbody>\n",
       "    <tr>\n",
       "      <th>0</th>\n",
       "      <td>40</td>\n",
       "      <td>M</td>\n",
       "      <td>ATA</td>\n",
       "      <td>140</td>\n",
       "      <td>289</td>\n",
       "      <td>0</td>\n",
       "      <td>Normal</td>\n",
       "      <td>172</td>\n",
       "      <td>N</td>\n",
       "      <td>0.0</td>\n",
       "      <td>Up</td>\n",
       "      <td>0</td>\n",
       "    </tr>\n",
       "    <tr>\n",
       "      <th>1</th>\n",
       "      <td>49</td>\n",
       "      <td>F</td>\n",
       "      <td>NAP</td>\n",
       "      <td>160</td>\n",
       "      <td>180</td>\n",
       "      <td>0</td>\n",
       "      <td>Normal</td>\n",
       "      <td>156</td>\n",
       "      <td>N</td>\n",
       "      <td>1.0</td>\n",
       "      <td>Flat</td>\n",
       "      <td>1</td>\n",
       "    </tr>\n",
       "    <tr>\n",
       "      <th>2</th>\n",
       "      <td>37</td>\n",
       "      <td>M</td>\n",
       "      <td>ATA</td>\n",
       "      <td>130</td>\n",
       "      <td>283</td>\n",
       "      <td>0</td>\n",
       "      <td>ST</td>\n",
       "      <td>98</td>\n",
       "      <td>N</td>\n",
       "      <td>0.0</td>\n",
       "      <td>Up</td>\n",
       "      <td>0</td>\n",
       "    </tr>\n",
       "    <tr>\n",
       "      <th>3</th>\n",
       "      <td>48</td>\n",
       "      <td>F</td>\n",
       "      <td>ASY</td>\n",
       "      <td>138</td>\n",
       "      <td>214</td>\n",
       "      <td>0</td>\n",
       "      <td>Normal</td>\n",
       "      <td>108</td>\n",
       "      <td>Y</td>\n",
       "      <td>1.5</td>\n",
       "      <td>Flat</td>\n",
       "      <td>1</td>\n",
       "    </tr>\n",
       "    <tr>\n",
       "      <th>4</th>\n",
       "      <td>54</td>\n",
       "      <td>M</td>\n",
       "      <td>NAP</td>\n",
       "      <td>150</td>\n",
       "      <td>195</td>\n",
       "      <td>0</td>\n",
       "      <td>Normal</td>\n",
       "      <td>122</td>\n",
       "      <td>N</td>\n",
       "      <td>0.0</td>\n",
       "      <td>Up</td>\n",
       "      <td>0</td>\n",
       "    </tr>\n",
       "  </tbody>\n",
       "</table>\n",
       "</div>"
      ],
      "text/plain": [
       "   Age Sex ChestPainType  RestingBP  Cholesterol  FastingBS RestingECG  MaxHR  \\\n",
       "0   40   M           ATA        140          289          0     Normal    172   \n",
       "1   49   F           NAP        160          180          0     Normal    156   \n",
       "2   37   M           ATA        130          283          0         ST     98   \n",
       "3   48   F           ASY        138          214          0     Normal    108   \n",
       "4   54   M           NAP        150          195          0     Normal    122   \n",
       "\n",
       "  ExerciseAngina  Oldpeak ST_Slope  HeartDisease  \n",
       "0              N      0.0       Up             0  \n",
       "1              N      1.0     Flat             1  \n",
       "2              N      0.0       Up             0  \n",
       "3              Y      1.5     Flat             1  \n",
       "4              N      0.0       Up             0  "
      ]
     },
     "execution_count": 2,
     "metadata": {},
     "output_type": "execute_result"
    }
   ],
   "source": [
    "heart_df = pd.read_csv('heart.csv')\n",
    "heart_df.head()"
   ]
  },
  {
   "cell_type": "markdown",
   "id": "0b5e8ff6",
   "metadata": {},
   "source": [
    "## Get size of the dataset"
   ]
  },
  {
   "cell_type": "code",
   "execution_count": 3,
   "id": "75457f18",
   "metadata": {},
   "outputs": [
    {
     "name": "stdout",
     "output_type": "stream",
     "text": [
      "A number of column: 12\n",
      "A number of row: 918\n"
     ]
    }
   ],
   "source": [
    "row_size, col_size = heart_df.shape\n",
    "print(f'A number of column: {col_size}')\n",
    "print(f'A number of row: {row_size}')"
   ]
  },
  {
   "cell_type": "markdown",
   "id": "f7e3dc49",
   "metadata": {},
   "source": [
    "## Exploring the rows"
   ]
  },
  {
   "cell_type": "markdown",
   "id": "bd0f5387",
   "metadata": {},
   "source": [
    "### Meaning of each rows"
   ]
  },
  {
   "cell_type": "markdown",
   "id": "814cbfcb",
   "metadata": {},
   "source": [
    "- Each row represents the case which is recorded"
   ]
  },
  {
   "cell_type": "markdown",
   "id": "382a749a",
   "metadata": {},
   "source": [
    "### Check the duplicated row"
   ]
  },
  {
   "cell_type": "code",
   "execution_count": 4,
   "id": "ad0f9e90",
   "metadata": {},
   "outputs": [
    {
     "name": "stdout",
     "output_type": "stream",
     "text": [
      "Count the duplicated rows: 0\n"
     ]
    }
   ],
   "source": [
    "count_duplicated_row = heart_df.duplicated().sum()\n",
    "print(f\"Count the duplicated rows: {count_duplicated_row}\")"
   ]
  },
  {
   "cell_type": "markdown",
   "id": "21045410",
   "metadata": {},
   "source": [
    "* Dataset don't have the duplicated rows."
   ]
  },
  {
   "cell_type": "markdown",
   "id": "807f3856",
   "metadata": {},
   "source": [
    "## Exploring the columns"
   ]
  },
  {
   "cell_type": "markdown",
   "id": "e68c7787",
   "metadata": {},
   "source": [
    "### Meaning of the columns"
   ]
  },
  {
   "cell_type": "markdown",
   "id": "c98af487",
   "metadata": {},
   "source": [
    "|  | Attributre     | Description                                                                                          |\n",
    "|:------:|:---------------|:-----------------------------------------------------------------------------------------------------|\n",
    "| 1      | Age            | age of the patient [years]                                                                           |\n",
    "| 2      | Sex            | sex of the patient [M: Male, F: Female]                                                              |\n",
    "| 3      | ChestPainType  | chest pain type [TA: Typical Angina, ATA: Atypical Angina, NAP: Non-Anginal Pain, ASY: Asymptomatic] |\n",
    "| 4      | RestingBP      | resting blood pressure [mm Hg]                                                                       |\n",
    "| 5      | Cholesterol    | serum cholesterol [mm/dl]                                                                            |\n",
    "| 6      | FastingBS      | fasting blood sugar [1: if FastingBS > 120 mg/dl, 0: otherwise]                                      |\n",
    "| 7      | RestingECG     | resting electrocardiogram results [Normal, ST, LVH]                                                  |\n",
    "| 8      | MaxHR          | maximum heart rate achieved [Numeric value between 60 and 202]                                       |\n",
    "| 9      | ExerciseAngina | exercise-induced angina [Y: Yes, N: No]                                                              |\n",
    "| 10     | Oldpeak        | oldpeak = ST [Numeric value measured in depression]                                                  |\n",
    "| 11     | ST_Slope       | the slope of the peak exercise ST segment [Up: upsloping, Flat: flat, Down: downsloping]             |\n",
    "| 12     | HeartDisease   | output class [1: heart disease, 0: Normal]                                                           |"
   ]
  },
  {
   "cell_type": "markdown",
   "id": "f035a4b2",
   "metadata": {},
   "source": [
    "### Datatype of each columns"
   ]
  },
  {
   "cell_type": "code",
   "execution_count": 5,
   "id": "a8885775",
   "metadata": {
    "scrolled": true
   },
   "outputs": [
    {
     "data": {
      "text/plain": [
       "Age                 int64\n",
       "Sex                object\n",
       "ChestPainType      object\n",
       "RestingBP           int64\n",
       "Cholesterol         int64\n",
       "FastingBS           int64\n",
       "RestingECG         object\n",
       "MaxHR               int64\n",
       "ExerciseAngina     object\n",
       "Oldpeak           float64\n",
       "ST_Slope           object\n",
       "HeartDisease        int64\n",
       "dtype: object"
      ]
     },
     "execution_count": 5,
     "metadata": {},
     "output_type": "execute_result"
    }
   ],
   "source": [
    "heart_df.dtypes"
   ]
  },
  {
   "cell_type": "markdown",
   "id": "88552707",
   "metadata": {},
   "source": [
    "With the binary columns, such as `FastingBS`; `ExerciseAngina`; `HeartDisease`, we convert these attributes to boolean datatype."
   ]
  },
  {
   "cell_type": "code",
   "execution_count": 6,
   "id": "086cc928",
   "metadata": {},
   "outputs": [
    {
     "name": "stdout",
     "output_type": "stream",
     "text": [
      "Value of FastingBS column:  [0, 1]\n",
      "Value of ExerciseAngina column:  ['N', 'Y']\n",
      "Value of HeartDisease column:  [0, 1]\n"
     ]
    }
   ],
   "source": [
    "#Checking the values of these columns\n",
    "binary_cols = ['FastingBS', 'ExerciseAngina', 'HeartDisease']\n",
    "\n",
    "for col in binary_cols:\n",
    "    print(f\"Value of {col} column: \", list(heart_df[col].unique()))"
   ]
  },
  {
   "cell_type": "code",
   "execution_count": 7,
   "id": "8639073b",
   "metadata": {},
   "outputs": [],
   "source": [
    "#Convert it into boolean datatype\n",
    "heart_df[\"FastingBS\"] = heart_df[\"FastingBS\"].astype(bool)\n",
    "heart_df[\"ExerciseAngina\"] = heart_df[\"ExerciseAngina\"] == 'Y'\n",
    "heart_df[\"HeartDisease\"] = heart_df[\"HeartDisease\"].astype(bool)"
   ]
  },
  {
   "cell_type": "code",
   "execution_count": 8,
   "id": "bad88373",
   "metadata": {},
   "outputs": [
    {
     "data": {
      "text/plain": [
       "Age                 int64\n",
       "Sex                object\n",
       "ChestPainType      object\n",
       "RestingBP           int64\n",
       "Cholesterol         int64\n",
       "FastingBS            bool\n",
       "RestingECG         object\n",
       "MaxHR               int64\n",
       "ExerciseAngina       bool\n",
       "Oldpeak           float64\n",
       "ST_Slope           object\n",
       "HeartDisease         bool\n",
       "dtype: object"
      ]
     },
     "execution_count": 8,
     "metadata": {},
     "output_type": "execute_result"
    }
   ],
   "source": [
    "heart_df.dtypes"
   ]
  },
  {
   "cell_type": "markdown",
   "id": "57ae34b1",
   "metadata": {},
   "source": [
    "### Explore numeric column(s)"
   ]
  },
  {
   "cell_type": "code",
   "execution_count": 9,
   "id": "2e740067",
   "metadata": {},
   "outputs": [
    {
     "data": {
      "text/html": [
       "<div>\n",
       "<style scoped>\n",
       "    .dataframe tbody tr th:only-of-type {\n",
       "        vertical-align: middle;\n",
       "    }\n",
       "\n",
       "    .dataframe tbody tr th {\n",
       "        vertical-align: top;\n",
       "    }\n",
       "\n",
       "    .dataframe thead th {\n",
       "        text-align: right;\n",
       "    }\n",
       "</style>\n",
       "<table border=\"1\" class=\"dataframe\">\n",
       "  <thead>\n",
       "    <tr style=\"text-align: right;\">\n",
       "      <th></th>\n",
       "      <th>Age</th>\n",
       "      <th>RestingBP</th>\n",
       "      <th>Cholesterol</th>\n",
       "      <th>MaxHR</th>\n",
       "      <th>Oldpeak</th>\n",
       "    </tr>\n",
       "  </thead>\n",
       "  <tbody>\n",
       "    <tr>\n",
       "      <th>0</th>\n",
       "      <td>40</td>\n",
       "      <td>140</td>\n",
       "      <td>289</td>\n",
       "      <td>172</td>\n",
       "      <td>0.0</td>\n",
       "    </tr>\n",
       "    <tr>\n",
       "      <th>1</th>\n",
       "      <td>49</td>\n",
       "      <td>160</td>\n",
       "      <td>180</td>\n",
       "      <td>156</td>\n",
       "      <td>1.0</td>\n",
       "    </tr>\n",
       "    <tr>\n",
       "      <th>2</th>\n",
       "      <td>37</td>\n",
       "      <td>130</td>\n",
       "      <td>283</td>\n",
       "      <td>98</td>\n",
       "      <td>0.0</td>\n",
       "    </tr>\n",
       "    <tr>\n",
       "      <th>3</th>\n",
       "      <td>48</td>\n",
       "      <td>138</td>\n",
       "      <td>214</td>\n",
       "      <td>108</td>\n",
       "      <td>1.5</td>\n",
       "    </tr>\n",
       "    <tr>\n",
       "      <th>4</th>\n",
       "      <td>54</td>\n",
       "      <td>150</td>\n",
       "      <td>195</td>\n",
       "      <td>122</td>\n",
       "      <td>0.0</td>\n",
       "    </tr>\n",
       "  </tbody>\n",
       "</table>\n",
       "</div>"
      ],
      "text/plain": [
       "   Age  RestingBP  Cholesterol  MaxHR  Oldpeak\n",
       "0   40        140          289    172      0.0\n",
       "1   49        160          180    156      1.0\n",
       "2   37        130          283     98      0.0\n",
       "3   48        138          214    108      1.5\n",
       "4   54        150          195    122      0.0"
      ]
     },
     "execution_count": 9,
     "metadata": {},
     "output_type": "execute_result"
    }
   ],
   "source": [
    "heart_num_df = heart_df.select_dtypes(include=[np.int64, np.float64])\n",
    "heart_num_df.head()"
   ]
  },
  {
   "cell_type": "code",
   "execution_count": 10,
   "id": "15498085",
   "metadata": {},
   "outputs": [
    {
     "name": "stdout",
     "output_type": "stream",
     "text": [
      "<class 'pandas.core.frame.DataFrame'>\n",
      "RangeIndex: 918 entries, 0 to 917\n",
      "Data columns (total 5 columns):\n",
      " #   Column       Non-Null Count  Dtype  \n",
      "---  ------       --------------  -----  \n",
      " 0   Age          918 non-null    int64  \n",
      " 1   RestingBP    918 non-null    int64  \n",
      " 2   Cholesterol  918 non-null    int64  \n",
      " 3   MaxHR        918 non-null    int64  \n",
      " 4   Oldpeak      918 non-null    float64\n",
      "dtypes: float64(1), int64(4)\n",
      "memory usage: 36.0 KB\n"
     ]
    }
   ],
   "source": [
    "heart_num_df.info()"
   ]
  },
  {
   "cell_type": "markdown",
   "id": "acb4e197",
   "metadata": {},
   "source": [
    "There are 918 entries as same as the number of non-null values. So those numeric columns have no missing value!"
   ]
  },
  {
   "cell_type": "code",
   "execution_count": 11,
   "id": "058eb8dc",
   "metadata": {},
   "outputs": [
    {
     "data": {
      "text/html": [
       "<div>\n",
       "<style scoped>\n",
       "    .dataframe tbody tr th:only-of-type {\n",
       "        vertical-align: middle;\n",
       "    }\n",
       "\n",
       "    .dataframe tbody tr th {\n",
       "        vertical-align: top;\n",
       "    }\n",
       "\n",
       "    .dataframe thead th {\n",
       "        text-align: right;\n",
       "    }\n",
       "</style>\n",
       "<table border=\"1\" class=\"dataframe\">\n",
       "  <thead>\n",
       "    <tr style=\"text-align: right;\">\n",
       "      <th></th>\n",
       "      <th>Age</th>\n",
       "      <th>RestingBP</th>\n",
       "      <th>Cholesterol</th>\n",
       "      <th>MaxHR</th>\n",
       "      <th>Oldpeak</th>\n",
       "    </tr>\n",
       "  </thead>\n",
       "  <tbody>\n",
       "    <tr>\n",
       "      <th>count</th>\n",
       "      <td>918.000000</td>\n",
       "      <td>918.000000</td>\n",
       "      <td>918.000000</td>\n",
       "      <td>918.000000</td>\n",
       "      <td>918.000000</td>\n",
       "    </tr>\n",
       "    <tr>\n",
       "      <th>mean</th>\n",
       "      <td>53.510893</td>\n",
       "      <td>132.396514</td>\n",
       "      <td>198.799564</td>\n",
       "      <td>136.809368</td>\n",
       "      <td>0.887364</td>\n",
       "    </tr>\n",
       "    <tr>\n",
       "      <th>std</th>\n",
       "      <td>9.432617</td>\n",
       "      <td>18.514154</td>\n",
       "      <td>109.384145</td>\n",
       "      <td>25.460334</td>\n",
       "      <td>1.066570</td>\n",
       "    </tr>\n",
       "    <tr>\n",
       "      <th>min</th>\n",
       "      <td>28.000000</td>\n",
       "      <td>0.000000</td>\n",
       "      <td>0.000000</td>\n",
       "      <td>60.000000</td>\n",
       "      <td>-2.600000</td>\n",
       "    </tr>\n",
       "    <tr>\n",
       "      <th>25%</th>\n",
       "      <td>47.000000</td>\n",
       "      <td>120.000000</td>\n",
       "      <td>173.250000</td>\n",
       "      <td>120.000000</td>\n",
       "      <td>0.000000</td>\n",
       "    </tr>\n",
       "    <tr>\n",
       "      <th>50%</th>\n",
       "      <td>54.000000</td>\n",
       "      <td>130.000000</td>\n",
       "      <td>223.000000</td>\n",
       "      <td>138.000000</td>\n",
       "      <td>0.600000</td>\n",
       "    </tr>\n",
       "    <tr>\n",
       "      <th>75%</th>\n",
       "      <td>60.000000</td>\n",
       "      <td>140.000000</td>\n",
       "      <td>267.000000</td>\n",
       "      <td>156.000000</td>\n",
       "      <td>1.500000</td>\n",
       "    </tr>\n",
       "    <tr>\n",
       "      <th>max</th>\n",
       "      <td>77.000000</td>\n",
       "      <td>200.000000</td>\n",
       "      <td>603.000000</td>\n",
       "      <td>202.000000</td>\n",
       "      <td>6.200000</td>\n",
       "    </tr>\n",
       "  </tbody>\n",
       "</table>\n",
       "</div>"
      ],
      "text/plain": [
       "              Age   RestingBP  Cholesterol       MaxHR     Oldpeak\n",
       "count  918.000000  918.000000   918.000000  918.000000  918.000000\n",
       "mean    53.510893  132.396514   198.799564  136.809368    0.887364\n",
       "std      9.432617   18.514154   109.384145   25.460334    1.066570\n",
       "min     28.000000    0.000000     0.000000   60.000000   -2.600000\n",
       "25%     47.000000  120.000000   173.250000  120.000000    0.000000\n",
       "50%     54.000000  130.000000   223.000000  138.000000    0.600000\n",
       "75%     60.000000  140.000000   267.000000  156.000000    1.500000\n",
       "max     77.000000  200.000000   603.000000  202.000000    6.200000"
      ]
     },
     "execution_count": 11,
     "metadata": {},
     "output_type": "execute_result"
    }
   ],
   "source": [
    "heart_num_df.describe()"
   ]
  },
  {
   "cell_type": "code",
   "execution_count": 12,
   "id": "4452cb5f",
   "metadata": {},
   "outputs": [
    {
     "name": "stdout",
     "output_type": "stream",
     "text": [
      "Column Age - Value counts in each bins: \n",
      "(27.95, 32.9]     12\n",
      "(32.9, 37.8]      37\n",
      "(37.8, 42.7]      86\n",
      "(42.7, 47.6]     104\n",
      "(47.6, 52.5]     148\n",
      "(52.5, 57.4]     201\n",
      "(57.4, 62.3]     175\n",
      "(62.3, 67.2]     101\n",
      "(67.2, 72.1]      39\n",
      "(72.1, 77.0]      15\n",
      "Name: Age, dtype: int64\n",
      "--------------------------------------------------\n",
      "Column RestingBP - Value counts in each bins: \n",
      "(-0.201, 20.0]      1\n",
      "(20.0, 40.0]        0\n",
      "(40.0, 60.0]        0\n",
      "(60.0, 80.0]        1\n",
      "(80.0, 100.0]      26\n",
      "(100.0, 120.0]    265\n",
      "(120.0, 140.0]    405\n",
      "(140.0, 160.0]    177\n",
      "(160.0, 180.0]     35\n",
      "(180.0, 200.0]      8\n",
      "Name: RestingBP, dtype: int64\n",
      "--------------------------------------------------\n",
      "Column Cholesterol - Value counts in each bins: \n",
      "(-0.604, 60.3]    172\n",
      "(60.3, 120.6]       6\n",
      "(120.6, 180.9]     70\n",
      "(180.9, 241.2]    319\n",
      "(241.2, 301.5]    248\n",
      "(301.5, 361.8]     81\n",
      "(361.8, 422.1]     14\n",
      "(422.1, 482.4]      3\n",
      "(482.4, 542.7]      3\n",
      "(542.7, 603.0]      2\n",
      "Name: Cholesterol, dtype: int64\n",
      "--------------------------------------------------\n",
      "Column MaxHR - Value counts in each bins: \n",
      "(59.857, 74.2]      9\n",
      "(74.2, 88.4]       18\n",
      "(88.4, 102.6]      62\n",
      "(102.6, 116.8]    113\n",
      "(116.8, 131.0]    199\n",
      "(131.0, 145.2]    168\n",
      "(145.2, 159.4]    148\n",
      "(159.4, 173.6]    132\n",
      "(173.6, 187.8]     61\n",
      "(187.8, 202.0]      8\n",
      "Name: MaxHR, dtype: int64\n",
      "--------------------------------------------------\n",
      "Column Oldpeak - Value counts in each bins: \n",
      "(-2.61, -1.72]      2\n",
      "(-1.72, -0.84]      5\n",
      "(-0.84, 0.04]     374\n",
      "(0.04, 0.92]      118\n",
      "(0.92, 1.8]       236\n",
      "(1.8, 2.68]       119\n",
      "(2.68, 3.56]       44\n",
      "(3.56, 4.44]       17\n",
      "(4.44, 5.32]        1\n",
      "(5.32, 6.2]         2\n",
      "Name: Oldpeak, dtype: int64\n",
      "--------------------------------------------------\n"
     ]
    }
   ],
   "source": [
    "#Split into 10 bins to detect the abnormal values\n",
    "for col_name in heart_num_df.columns:\n",
    "    print(f'Column {col_name} - Value counts in each bins: ')\n",
    "    print(heart_num_df[col_name].value_counts(bins=10, sort=False))\n",
    "    print('-'*50)"
   ]
  },
  {
   "cell_type": "markdown",
   "id": "3242701c",
   "metadata": {},
   "source": [
    "As we can see, `Age` and `MaxHR` columns have suitable values. The remaining columns (`RestingBP`, `Cholesterol`, `Oldpeak`) have some abnormal values: the value should to be the positive values but it contains zero number or the negative values."
   ]
  },
  {
   "cell_type": "code",
   "execution_count": 13,
   "id": "68d851cd",
   "metadata": {},
   "outputs": [
    {
     "name": "stdout",
     "output_type": "stream",
     "text": [
      "Values are not suitable in RestingBP: {0}\n",
      "Count records which contain values are not suitable in RestingBP: 1\n"
     ]
    }
   ],
   "source": [
    "#RestingBP\n",
    "values_not_suit = heart_num_df[heart_num_df[\"RestingBP\"] <= 20][\"RestingBP\"].to_list()\n",
    "print(f'Values are not suitable in RestingBP: {set(values_not_suit)}')\n",
    "print(f'Count records which contain values are not suitable in RestingBP: {len(values_not_suit)}')"
   ]
  },
  {
   "cell_type": "markdown",
   "id": "8ed524cd",
   "metadata": {},
   "source": [
    "* In the `RestingBP` columns, there is a record which has invalid value. Therefore, the `RestingBP` value of this record is seen as null."
   ]
  },
  {
   "cell_type": "code",
   "execution_count": 14,
   "id": "0e15d313",
   "metadata": {},
   "outputs": [
    {
     "name": "stdout",
     "output_type": "stream",
     "text": [
      "Values are not suitable in Cholesterol: {0}\n",
      "Count records which contain values are not suitable in Cholesterol: 172\n"
     ]
    }
   ],
   "source": [
    "#Cholesterol\n",
    "values_not_suit = heart_num_df[heart_num_df[\"Cholesterol\"] <= 60.3][\"Cholesterol\"].to_list()\n",
    "print(f'Values are not suitable in Cholesterol: {set(values_not_suit)}')\n",
    "print(f'Count records which contain values are not suitable in Cholesterol: {len(values_not_suit)}')"
   ]
  },
  {
   "cell_type": "markdown",
   "id": "0e59f414",
   "metadata": {},
   "source": [
    "* As same as `RestingBP` columns, in the `Cholesterol` columns, there are 172 records which has invalid value, but this values are equal by 0. Therefore, the `Cholesterol` value of this record is seen as null."
   ]
  },
  {
   "cell_type": "code",
   "execution_count": 15,
   "id": "8ee28fb2",
   "metadata": {},
   "outputs": [
    {
     "name": "stdout",
     "output_type": "stream",
     "text": [
      "Values are not suitable in Oldpeak: {0.0, -0.9, -0.1, -0.7, -0.8, -0.5, -1.0, -2.0, -1.1, -2.6, -1.5}\n",
      "Count records which contain values are not suitable in Oldpeak: 381\n"
     ]
    }
   ],
   "source": [
    "#Oldpeak\n",
    "values_not_suit = heart_num_df[heart_num_df[\"Oldpeak\"] <= 0.04][\"Oldpeak\"].to_list()\n",
    "print(f'Values are not suitable in Oldpeak: {set(values_not_suit)}')\n",
    "print(f'Count records which contain values are not suitable in Oldpeak: {len(values_not_suit)}')"
   ]
  },
  {
   "cell_type": "markdown",
   "id": "e504d841",
   "metadata": {},
   "source": [
    "* The percentage of records which have unsuitable values is more higher. Therefore just delete this columns."
   ]
  },
  {
   "cell_type": "code",
   "execution_count": 16,
   "id": "546eba26",
   "metadata": {},
   "outputs": [],
   "source": [
    "heart_df = heart_df.drop(columns=[\"Oldpeak\"])"
   ]
  },
  {
   "cell_type": "code",
   "execution_count": null,
   "id": "983a6b68",
   "metadata": {},
   "outputs": [],
   "source": [
    "#Plot the distribution of each numeric columns\n",
    "numeric_cols_df = heart_df.select_dtypes(exclude=[object, bool])\n",
    "\n",
    "fig, axs = plt.subplots(nrows = 2,ncols = 2, figsize = (16,10))\n",
    "\n",
    "for i in range(numeric_cols_df.shape[-1]):\n",
    "\n",
    "    ax = axs[i//2, i%2]\n",
    "    \n",
    "    ax1 = numeric_cols_df.iloc[:, i].plot(kind='hist', ax = ax)\n",
    "    ax2 = numeric_cols_df.iloc[:, i].plot(kind='kde', ax=ax, secondary_y=True, grid=True)\n",
    "    \n",
    "    ax1.set_ylabel('Frequency')\n",
    "    ax2.set_ylabel('Density')\n",
    "    ax2.set_ylim(0)\n",
    "\n",
    "    title = 'Distribution : ' + numeric_cols_df.columns[i]\n",
    "    plt.title(title)\n",
    "    \n",
    "fig.tight_layout()"
   ]
  },
  {
   "cell_type": "markdown",
   "id": "e9d17c84",
   "metadata": {},
   "source": [
    "With the numberic columns, it is witnessed that the distribution is nearly symmetric.\n",
    "Cholestrol has a bidmodal data distribution."
   ]
  },
  {
   "cell_type": "markdown",
   "id": "abbe7f6f",
   "metadata": {},
   "source": [
    "### Explore categorical column(s)"
   ]
  },
  {
   "cell_type": "code",
   "execution_count": null,
   "id": "1a09ce63",
   "metadata": {},
   "outputs": [],
   "source": [
    "heart_cat_df = heart_df.select_dtypes(include=[object, bool])\n",
    "heart_cat_df.head()"
   ]
  },
  {
   "cell_type": "code",
   "execution_count": null,
   "id": "6149c04b",
   "metadata": {},
   "outputs": [],
   "source": [
    "heart_cat_df.info()"
   ]
  },
  {
   "cell_type": "markdown",
   "id": "cb53d047",
   "metadata": {},
   "source": [
    "There are 918 entries as same as the categories of non-null values. So those numeric columns have no missing value!"
   ]
  },
  {
   "cell_type": "code",
   "execution_count": null,
   "id": "3ba84e80",
   "metadata": {},
   "outputs": [],
   "source": [
    "heart_cat_df.describe().T"
   ]
  },
  {
   "cell_type": "code",
   "execution_count": null,
   "id": "6ba59088",
   "metadata": {},
   "outputs": [],
   "source": [
    "for column in heart_cat_df.columns:\n",
    "    print(heart_cat_df[column].value_counts())\n",
    "    print('-----------------------------------')"
   ]
  },
  {
   "cell_type": "markdown",
   "id": "8e7d7a9f",
   "metadata": {},
   "source": [
    "#### Explore the binary attributes"
   ]
  },
  {
   "cell_type": "code",
   "execution_count": null,
   "id": "b1d24520",
   "metadata": {},
   "outputs": [],
   "source": [
    "binary_cols_df = heart_cat_df.select_dtypes(include='bool')\n",
    "binary_cols_df.head()"
   ]
  },
  {
   "cell_type": "code",
   "execution_count": null,
   "id": "9036ff58",
   "metadata": {},
   "outputs": [],
   "source": [
    "fig, axs = plt.subplots(nrows = 2,ncols = 2,figsize = (16,10))\n",
    "for i in range(len(binary_cols_df.columns)):\n",
    "    plt.subplot(2,2,i+1)\n",
    "    ax = sns.countplot(x=binary_cols_df.iloc[:, i], order=[True, False])\n",
    "    ax.set(xlabel=None, ylabel=None)\n",
    "    title = f'Value counts in {binary_cols_df.columns[i]} columns ' \n",
    "    plt.title(title)\n",
    "\n",
    "axs[-1, -1].remove()"
   ]
  },
  {
   "cell_type": "markdown",
   "id": "b9a51264",
   "metadata": {},
   "source": [
    "A distribution of values `FastingBS` is not asymmetric in comparation with the other columns. Specifically, the amount of fasting blood sugar, which is more than 120md/dl, less than that in the remaining group."
   ]
  },
  {
   "cell_type": "markdown",
   "id": "7730d408",
   "metadata": {},
   "source": [
    "#### Explore object attribute"
   ]
  },
  {
   "cell_type": "code",
   "execution_count": null,
   "id": "097d79fb",
   "metadata": {},
   "outputs": [],
   "source": [
    "obj_cols_df = heart_cat_df.select_dtypes(include='object')\n",
    "obj_cols_df.head()"
   ]
  },
  {
   "cell_type": "code",
   "execution_count": null,
   "id": "c2bd07ca",
   "metadata": {},
   "outputs": [],
   "source": [
    "fig, axs = plt.subplots(nrows = 2,ncols = 2,figsize = (16,10))\n",
    "for i in range(len(obj_cols_df.columns)):\n",
    "    plt.subplot(2,2,i+1)\n",
    "    ax = sns.countplot(x=obj_cols_df.iloc[:, i])\n",
    "    ax.set(xlabel=None, ylabel=None)\n",
    "    title = f'Value counts in {obj_cols_df.columns[i]} columns ' \n",
    "    plt.title(title)"
   ]
  },
  {
   "cell_type": "markdown",
   "id": "1b1dae46",
   "metadata": {},
   "source": [
    "As we can see here:\n",
    "- The number of records in each categorie group don't distribute equally.\n",
    "    * `Sex`: the number of male is higher than the number of female.\n",
    "    * `ChestPainType`: many people have Asymptomatic (ASY), rest of it are seen with clear symptoms (ATA, NAP, ASY, TA).\n",
    "    * `RestingECG`: Normal group has more records than others group (ST and LVH).\n",
    "    * `ST_Slope`: while Up and Flat group have the high number of records, Down group hit the low of that."
   ]
  },
  {
   "cell_type": "markdown",
   "id": "ca84d598",
   "metadata": {},
   "source": [
    "### Further explore"
   ]
  },
  {
   "cell_type": "markdown",
   "id": "48788729",
   "metadata": {},
   "source": [
    "In numeric columns, are there any correlation?"
   ]
  },
  {
   "cell_type": "code",
   "execution_count": null,
   "id": "675eabf9",
   "metadata": {},
   "outputs": [],
   "source": [
    "# First let just fill null (zero) value in Cholesterol and RestingBP with mean of its column\n",
    "temp_col_df = numeric_cols_df.copy()\n",
    "\n",
    "restingBP_not_null = temp_col_df[temp_col_df['RestingBP'] != 0]\n",
    "restingBP_mean = restingBP_not_null['RestingBP'].mean()\n",
    "cholesterol_not_null = temp_col_df[temp_col_df['Cholesterol'] != 0]\n",
    "cholesterol_mean = cholesterol_not_null['Cholesterol'].mean()\n",
    "\n",
    "temp_col_df['RestingBP'].replace(to_replace=0, value=restingBP_mean, inplace=True)\n",
    "temp_col_df['Cholesterol'].replace(to_replace=0, value=cholesterol_mean, inplace=True)\n",
    "\n",
    "temp_col_df = pd.concat([temp_col_df, binary_cols_df], axis=1)\n",
    "\n",
    "sns.heatmap(temp_col_df.corr(), annot=True);"
   ]
  },
  {
   "cell_type": "markdown",
   "id": "624beb5f",
   "metadata": {},
   "source": [
    "As we can see here:\n",
    "* Mostly attributes has a positive correlation with other atributes, except `MaxHR` attribute."
   ]
  },
  {
   "cell_type": "code",
   "execution_count": null,
   "id": "34e306c8",
   "metadata": {},
   "outputs": [],
   "source": [
    "bins = heart_num_df['Age'].value_counts(bins=10, sort=False).index\n",
    "temp_df = heart_df.copy()\n",
    "temp_df['Age_binned'] = pd.cut(temp_df['Age'], bins)\n",
    "ax = sns.countplot(data=temp_df, x='Age_binned', hue='Sex')\n",
    "plt.xticks(rotation=45);"
   ]
  },
  {
   "cell_type": "markdown",
   "id": "1b4c003a",
   "metadata": {},
   "source": [
    "* Although distribution of value in `Male` columns is symmetric but the number of male is more than the number of female."
   ]
  },
  {
   "cell_type": "code",
   "execution_count": null,
   "id": "736899fc",
   "metadata": {},
   "outputs": [],
   "source": [
    "consider_cols = ['RestingECG', 'ST_Slope', 'ChestPainType', 'FastingBS', 'ExerciseAngina']\n",
    "fig, axs = plt.subplots(nrows = 3,ncols = 2, figsize = (16,15))\n",
    "\n",
    "for i in range(len(consider_cols)):\n",
    "    plt.subplot(3, 2, i+1)\n",
    "    sns.countplot(data=heart_df, x=consider_cols[i], hue='HeartDisease', hue_order=[True, False])\n",
    "\n",
    "axs[-1, -1].remove()"
   ]
  },
  {
   "cell_type": "markdown",
   "id": "c0e3b25e",
   "metadata": {},
   "source": [
    "For almost attributes except `RestingECG` and `FastingBS`, we can clearly see the differences between the `HeartDisease` outcomes in each categorical value. However, there is less constrast in the outcomes of `HeartDisease` in the remaining attributes. Although the `FastingBS` is witnessed that trend, it doesn't have more information enough to fully conclude."
   ]
  },
  {
   "cell_type": "markdown",
   "id": "e480f2ff",
   "metadata": {},
   "source": [
    "# Asking meaningful questions and answering them"
   ]
  },
  {
   "cell_type": "code",
   "execution_count": null,
   "id": "3e44c776",
   "metadata": {},
   "outputs": [],
   "source": [
    "from sklearn.impute import SimpleImputer\n",
    "from sklearn.preprocessing import OneHotEncoder\n",
    "from sklearn.pipeline import Pipeline\n",
    "from sklearn.compose import ColumnTransformer\n",
    "from sklearn.linear_model import LogisticRegression\n",
    "from sklearn.ensemble import GradientBoostingClassifier\n",
    "from sklearn.neural_network import MLPClassifier\n",
    "from sklearn.model_selection import train_test_split\n",
    "from sklearn.model_selection  import cross_val_score\n",
    "from sklearn.metrics  import confusion_matrix\n",
    "from sklearn.base import BaseEstimator, TransformerMixin\n",
    "from mlxtend.frequent_patterns import apriori, association_rules\n",
    "pd.set_option('max_colwidth', 1000)"
   ]
  },
  {
   "cell_type": "markdown",
   "id": "f72ebf60",
   "metadata": {},
   "source": [
    "## How to detect people who have heart disease by those symptoms?"
   ]
  },
  {
   "cell_type": "markdown",
   "id": "ca85c6e9",
   "metadata": {},
   "source": [
    "### Purposes"
   ]
  },
  {
   "cell_type": "markdown",
   "id": "9cc2c373",
   "metadata": {},
   "source": [
    "* Detecting early heart failure is crucial for recognizing and curing it as fast as possible to reduce death rate. As the result, we need a model to detect it with the high accurancy and fast speed based on those symptoms "
   ]
  },
  {
   "cell_type": "markdown",
   "id": "cfdf33af",
   "metadata": {},
   "source": [
    "- To answer this question, we need a machine learning model that learn our pattern then predict our future samples. We need to do this in several steps:\n",
    "    * Step 1: Split the data to train set and test set.\n",
    "    * Step 2: Pre-processing data, handle *null* values if needed.\n",
    "    * Step 3: Evaluate several models on the train set using cross validation technique by taking accurancy as measure. \n",
    "    * Step 4: Evaluate the final best model on the test set.\n",
    "    * Step 5: Retrain on full dataset to make the final model."
   ]
  },
  {
   "cell_type": "markdown",
   "id": "ccccc28a",
   "metadata": {},
   "source": [
    "### Pre-processing"
   ]
  },
  {
   "cell_type": "code",
   "execution_count": null,
   "id": "f8c7c6d5",
   "metadata": {},
   "outputs": [],
   "source": [
    "heart_df.head()"
   ]
  },
  {
   "cell_type": "markdown",
   "id": "8e29b4fb",
   "metadata": {},
   "source": [
    "Since numeric columns have *null* value, we will to fill those value with `SimpleImputer`. For all categorical columns, we will use `OneHotEncoder`"
   ]
  },
  {
   "cell_type": "code",
   "execution_count": null,
   "id": "d8f28803",
   "metadata": {},
   "outputs": [],
   "source": [
    "X = heart_df.iloc[:, :-1]\n",
    "y = heart_df.iloc[:, -1]\n",
    "\n",
    "# Split the data: 80% train, 20% test\n",
    "X_train, X_test, y_train, y_test = train_test_split(X, y, test_size=0.2, random_state=2022)\n",
    "\n",
    "# Split num columns and category columns\n",
    "num_cols = X.select_dtypes(exclude=[object, bool]).columns.tolist()\n",
    "cate_cols = X.select_dtypes(include=[object, bool]).columns.tolist()\n",
    "\n",
    "# Preprocess data\n",
    "preprocessor = ColumnTransformer(transformers=[\n",
    "    ('category', OneHotEncoder(handle_unknown='ignore'), cate_cols)\n",
    "])"
   ]
  },
  {
   "cell_type": "markdown",
   "id": "04ae02ac",
   "metadata": {},
   "source": [
    "### Analysis"
   ]
  },
  {
   "cell_type": "markdown",
   "id": "e5b18fe2",
   "metadata": {},
   "source": [
    "Now let's train and test the data on train set!"
   ]
  },
  {
   "cell_type": "code",
   "execution_count": null,
   "id": "96d2357b",
   "metadata": {},
   "outputs": [],
   "source": [
    "full_model_logistic = Pipeline(steps=[\n",
    "    ('preprocess', preprocessor),\n",
    "    ('model', LogisticRegression(max_iter=1000, C=10, random_state=2022))\n",
    "])\n",
    "\n",
    "full_model_xgboost = Pipeline(steps=[\n",
    "    ('preprocess', preprocessor),\n",
    "    ('model', GradientBoostingClassifier(learning_rate=1.0, random_state=2022))\n",
    "])\n",
    "\n",
    "full_model_mlp = Pipeline(steps=[\n",
    "    ('preprocess', preprocessor),\n",
    "    ('model', MLPClassifier(hidden_layer_sizes=(100, ), max_iter=1000, random_state=2022))\n",
    "])\n",
    "\n",
    "# evaluate models on train set\n",
    "print(f'Score on Logistic Regression: {cross_val_score(full_model_logistic, X_train, y_train, cv=5).mean()*100:.2f}%')\n",
    "print(f'Score on Gradient Boosting: {cross_val_score(full_model_xgboost, X_train, y_train, cv=5).mean()*100:.2f}%')\n",
    "print(f'Score on MLP Classifier: {cross_val_score(full_model_mlp, X_train, y_train, cv=5).mean()*100:.2f}%')"
   ]
  },
  {
   "cell_type": "markdown",
   "id": "87b1bb30",
   "metadata": {},
   "source": [
    "Look like Logistic Regression has highest score!  \n",
    "We will perform our prediction on test set with Logistic Regression."
   ]
  },
  {
   "cell_type": "code",
   "execution_count": null,
   "id": "490183c1",
   "metadata": {},
   "outputs": [],
   "source": [
    "# train on train set and predict on test set through best model\n",
    "full_model_logistic.fit(X_train, y_train)\n",
    "y_pred = full_model_logistic.predict(X_test)\n",
    "\n",
    "# evaluate model prediction\n",
    "tn, fp, fn, tp = confusion_matrix(y_pred=y_pred, y_true=y_test).ravel()\n",
    "\n",
    "print(f'Accuracy: {((tp + tn) / (tn + fp + fn + tp) * 100):.2f}%')\n",
    "print(f'Sensitivity (Recall): {(tp / (tp + fn) * 100):.2f}%')\n",
    "print(f'Specificity: {(tn / (tn + fp) * 100):.2f}%')\n",
    "print(f'Precision: {(tp / (tp + fp) * 100):.2f}%')"
   ]
  },
  {
   "cell_type": "markdown",
   "id": "edc97a57",
   "metadata": {},
   "source": [
    "Not a bad result!"
   ]
  },
  {
   "cell_type": "markdown",
   "id": "be19cce2",
   "metadata": {},
   "source": [
    "## Which factors leading to the heart disease?"
   ]
  },
  {
   "cell_type": "markdown",
   "id": "8577dec9",
   "metadata": {},
   "source": [
    "### Purposes"
   ]
  },
  {
   "cell_type": "markdown",
   "id": "448b0074",
   "metadata": {},
   "source": [
    "* Exploring this question helps to early warn to the patient when the symtoms commence. Thanks to it, the patient can be make the better decisons. "
   ]
  },
  {
   "cell_type": "markdown",
   "id": "efe89905",
   "metadata": {},
   "source": [
    "* To solve this question, we need to mine the items which are frequence in this database. To do that, we need to follow these steps:\n",
    "    1. Convert all the numeric attributes to the categories.\n",
    "        * Idea: for each numeric attributes, we divide into small range and then assign the labels to each range. With each element belongs to this range, we assign this range's label to this element.\n",
    "        * Dividing the range and assigning it to the labels need to suitable, especially correction in the medicine study.  \n",
    "        * To cover this, we categorize based on the `A Fuzzy Expert System for Heart Disease Diagnosis` study. It can be found in this [link](https://www.researchgate.net/publication/44260568_A_Fuzzy_Expert_System_for_Heart_Disease_Diagnosis).\n",
    "    2. Encode these categorical features as a one-hot bits array.\n",
    "    3. Mining the frequency items using Apriori algorithms.\n",
    "    4. Creates the rules from the frequency items set."
   ]
  },
  {
   "cell_type": "markdown",
   "id": "14975d5c",
   "metadata": {},
   "source": [
    "### Pre-processing"
   ]
  },
  {
   "cell_type": "markdown",
   "id": "511f1c14",
   "metadata": {},
   "source": [
    "* Pre-processing with 2 phases:\n",
    "    1. Convert the numeric attributes to categorical attribute\n",
    "    2. Convert it into the bit array.\n",
    "    \n",
    "    \n",
    "* **Notice**: In step 1, we divide by below conditions (mentioned in the [study](https://www.researchgate.net/publication/44260568_A_Fuzzy_Expert_System_for_Heart_Disease_Diagnosis) above)\n",
    "    + For the Age columns (Age):\n",
    "        | RANGE   | FUZZY SETS |\n",
    "        |:-------:|:----------:|\n",
    "        | < 38    | Young      |\n",
    "        | 33 - 45 | Mild       |\n",
    "        | 40 - 58 | Old        |\n",
    "        | > 52    | Very old   |\n",
    "        \n",
    "    + For the RestingBP columns (Blood Sugar (Diabetes)):\n",
    "        | RANGE     | FUZZY SETS |\n",
    "        |:---------:|:----------:|\n",
    "        | > 120     | True       |\n",
    "        | Otherwise | False      |\n",
    "        \n",
    "    + For the Cholesterol columns (Cholesterol):\n",
    "        | RANGE     | FUZZY SETS |\n",
    "        |:---------:|:----------:|\n",
    "        | < 197     | Low        |\n",
    "        | 188 - 250 | Medium     |\n",
    "        | 217 - 307 | High       |\n",
    "        | > 281     | Very High  |\n",
    "        \n",
    "    + For the MaxHR columns (Maximum Heart Rate):\n",
    "        | RANGE     | FUZZY SETS |\n",
    "        |:---------:|:----------:|\n",
    "        | < 141     | Low        |\n",
    "        | 111 - 194 | Medium     |\n",
    "        | > 152     |  High      |\n",
    "        \n",
    "        "
   ]
  },
  {
   "cell_type": "code",
   "execution_count": null,
   "id": "6e92df1b",
   "metadata": {},
   "outputs": [],
   "source": [
    "def AgeMapper(age_series):\n",
    "    age_col = age_series.copy()\n",
    "    \n",
    "    age_col[age_series < 38] = 'Young'\n",
    "    age_col[age_series.between(33, 45)] = 'Mild'\n",
    "    age_col[age_series.between(40, 58)] = 'Old'\n",
    "    age_col[age_series > 52] = 'Very_Old'\n",
    "    return age_col\n",
    "    \n",
    "def RestingBPMapper(resting_series):\n",
    "    resting_col = resting_series.copy()\n",
    "    resting_col = resting_col > 120\n",
    "    return resting_col\n",
    "    \n",
    "def CholesterolMapper(cholesterol_series):\n",
    "    cholesterol_col = cholesterol_series.copy()\n",
    "    cholesterol_col[cholesterol_series < 197] = 'Low'\n",
    "    cholesterol_col[cholesterol_series.between(188, 250)] = 'Medium'\n",
    "    cholesterol_col[cholesterol_series.between(217, 307)] = 'High'\n",
    "    cholesterol_col[cholesterol_series > 281] = 'Very_High'\n",
    "    return cholesterol_col\n",
    "    \n",
    "def MaxHRMapper(maxHR_series):\n",
    "    maxHR_col = maxHR_series.copy()\n",
    "    maxHR_col[maxHR_series < 141] = 'Low'\n",
    "    maxHR_col[maxHR_series.between(111, 194)] = 'Medium'\n",
    "    maxHR_col[maxHR_series > 152] = 'High'\n",
    "    return maxHR_col"
   ]
  },
  {
   "cell_type": "code",
   "execution_count": null,
   "id": "cc96cc70",
   "metadata": {},
   "outputs": [],
   "source": [
    "#Copy new dataframe.\n",
    "heart_cate = heart_df.copy()\n",
    "\n",
    "heart_cate['Age'] = AgeMapper(heart_cate['Age'])\n",
    "heart_cate['RestingBP'] = RestingBPMapper(heart_cate['RestingBP'])\n",
    "heart_cate['Cholesterol'] = CholesterolMapper(heart_cate['Cholesterol'])\n",
    "heart_cate['MaxHR'] = MaxHRMapper(heart_cate['MaxHR'])\n",
    "heart_cate[heart_cate.select_dtypes(bool).columns] = heart_cate[heart_cate.select_dtypes(bool).columns].astype(str)"
   ]
  },
  {
   "cell_type": "code",
   "execution_count": null,
   "id": "3041d793",
   "metadata": {
    "scrolled": true
   },
   "outputs": [],
   "source": [
    "heart_cate.dtypes"
   ]
  },
  {
   "cell_type": "code",
   "execution_count": null,
   "id": "97c830db",
   "metadata": {},
   "outputs": [],
   "source": [
    "heart_cate.head()"
   ]
  },
  {
   "cell_type": "markdown",
   "id": "492eb17e",
   "metadata": {},
   "source": [
    "### Analysis"
   ]
  },
  {
   "cell_type": "code",
   "execution_count": null,
   "id": "011a006d",
   "metadata": {},
   "outputs": [],
   "source": [
    "enc = OneHotEncoder(handle_unknown='ignore')\n",
    "arr = enc.fit_transform(heart_cate).toarray().astype(bool)\n",
    "\n",
    "heart_cate_one_hot_df =\\\n",
    "        pd.DataFrame(arr, columns=enc.get_feature_names(heart_cate.columns))\n",
    "\n",
    "heart_cate_one_hot_df"
   ]
  },
  {
   "cell_type": "code",
   "execution_count": null,
   "id": "a1d33452",
   "metadata": {},
   "outputs": [],
   "source": [
    "frequent_itemsets = apriori(heart_cate_one_hot_df, min_support = 0.2, use_colnames = True)\n",
    "rules_df = association_rules(frequent_itemsets, metric=\"confidence\", min_threshold=0.9)\n",
    "mask_result = rules_df[\"consequents\"].apply(lambda x: 'HeartDisease_True' in x)\n",
    "\n",
    "rules_df = rules_df[mask_result].sort_values(by=['confidence', 'support'], ascending = False)\n",
    "rules_df = rules_df.reset_index(drop=True)\n",
    "rules_df.loc[:5, ['antecedents', 'consequents', 'confidence', 'support' ]] "
   ]
  },
  {
   "cell_type": "markdown",
   "id": "e1e235b2",
   "metadata": {},
   "source": [
    "* **Note:** The table above provides the information about the factors leading to Heart Disease with min_support = 0.2 and confidence is over 90%. The factor is an array of item which formated with `'symtom'_'value'`:\n",
    "    + `systom` is the name of the columns\n",
    "    + `value` is the unique value in this columns."
   ]
  },
  {
   "cell_type": "markdown",
   "id": "20d3d0cb",
   "metadata": {},
   "source": [
    "# Reference"
   ]
  },
  {
   "cell_type": "markdown",
   "id": "81e5652c",
   "metadata": {},
   "source": [
    "1. Adeli, A., & Neshat, M. (2010, March). A Fuzzy Expert System for Heart Disease Diagnosis. Proceedings of the International MultiConference of Engineers and Computer Scientists 2010, I. https://www.researchgate.net/publication/44260568_A_Fuzzy_Expert_System_for_Heart_Disease_Diagnosis\n",
    "\n",
    "2. (n.d.). Heart Failure Prediction Dataset. Kaggle. <br>\n",
    "https://www.kaggle.com/datasets/fedesoriano/heart-failure-prediction"
   ]
  }
 ],
 "metadata": {
  "kernelspec": {
   "display_name": "Python 3 (ipykernel)",
   "language": "python",
   "name": "python3"
  },
  "language_info": {
   "codemirror_mode": {
    "name": "ipython",
    "version": 3
   },
   "file_extension": ".py",
   "mimetype": "text/x-python",
   "name": "python",
   "nbconvert_exporter": "python",
   "pygments_lexer": "ipython3",
   "version": "3.8.8"
  },
  "toc": {
   "base_numbering": 1,
   "nav_menu": {
    "height": "245.994px",
    "width": "391.918px"
   },
   "number_sections": true,
   "sideBar": true,
   "skip_h1_title": false,
   "title_cell": "Table of Contents",
   "title_sidebar": "Contents",
   "toc_cell": true,
   "toc_position": {
    "height": "calc(100% - 180px)",
    "left": "10px",
    "top": "150px",
    "width": "406px"
   },
   "toc_section_display": true,
   "toc_window_display": false
  },
  "varInspector": {
   "cols": {
    "lenName": 16,
    "lenType": 16,
    "lenVar": 40
   },
   "kernels_config": {
    "python": {
     "delete_cmd_postfix": "",
     "delete_cmd_prefix": "del ",
     "library": "var_list.py",
     "varRefreshCmd": "print(var_dic_list())"
    },
    "r": {
     "delete_cmd_postfix": ") ",
     "delete_cmd_prefix": "rm(",
     "library": "var_list.r",
     "varRefreshCmd": "cat(var_dic_list()) "
    }
   },
   "types_to_exclude": [
    "module",
    "function",
    "builtin_function_or_method",
    "instance",
    "_Feature"
   ],
   "window_display": false
  },
  "vscode": {
   "interpreter": {
    "hash": "4032e9f9dbc711ced0fb5ff51c2a52e078f351b24753ddddb1da772c83b33546"
   }
  }
 },
 "nbformat": 4,
 "nbformat_minor": 5
}
