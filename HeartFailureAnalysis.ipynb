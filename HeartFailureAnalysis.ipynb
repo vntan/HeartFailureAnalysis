{
 "cells": [
  {
   "cell_type": "markdown",
   "id": "551eba7c",
   "metadata": {},
   "source": [
    "\n",
    "<font size=\"8\"><center>**Heart Failure Analysis**</center></font>"
   ]
  },
  {
   "cell_type": "markdown",
   "id": "5d732ae7",
   "metadata": {},
   "source": [
    "# Group information"
   ]
  },
  {
   "cell_type": "markdown",
   "id": "a15a4eae",
   "metadata": {},
   "source": [
    "| ID       | Name        | Task | Contribution rate |\n",
    "|:--------:|:------------|:----:|:-----------------:|\n",
    "| 20127323 | Võ Nhật Tân |      | 50%               |\n",
    "| 20127447 | Ngô Đức Bảo |      | 50%               |\n"
   ]
  },
  {
   "cell_type": "markdown",
   "id": "9fbd39fb",
   "metadata": {},
   "source": [
    "# Dataset information"
   ]
  },
  {
   "cell_type": "markdown",
   "id": "0a321444",
   "metadata": {},
   "source": [
    "## Subject of the data\n",
    "- Heart failure is a common event caused by cardiovascular diseases (CVDs), which are the main reason leading to death globally. As a result, people with cardiovascular disease or who are at high cardiovascular risk (due to the presence of one or more risk factors such as hypertension, diabetes, hyperlipidaemia or already established disease) need early detection and management."
   ]
  },
  {
   "cell_type": "markdown",
   "id": "fcb106ee",
   "metadata": {},
   "source": [
    "## Source of the data and how this dataset collected?\n",
    "- This dataset was created by combining different datasets already available independently but not combined before. In this dataset, 5 heart datasets are combined over 11 common features which makes it the largest heart disease dataset available so far for research purposes. The five datasets used for its curation are:\n",
    "\n",
    "    * ***Cleveland***: 303 observations\n",
    "    * ***Hungarian***: 294 observations\n",
    "    * ***Switzerland***: 123 observations\n",
    "    * ***Long Beach VA***: 200 observations\n",
    "    * ***Stalog (Heart) Data Set***: 270 observations\n",
    "    \n",
    "    \n",
    "        ==> Total: 1190 observations\n",
    "        Duplicated: 272 observations\n",
    "        Final dataset: 918 observations\n",
    "\n",
    "- Every dataset used can be found under the Index of heart disease datasets from UCI Machine Learning Repository on the following link: https://archive.ics.uci.edu/ml/machine-learning-databases/heart-disease/"
   ]
  },
  {
   "cell_type": "markdown",
   "id": "6a6f5a97",
   "metadata": {},
   "source": [
    "## Copyright\n",
    "- The data is free for sharing, creating and adapting. This license can be seen in that [link](https://opendatacommons.org/licenses/odbl/1-0/).\n",
    "- The creators of this dataset:\n",
    "    1. Hungarian Institute of Cardiology. Budapest: Andras Janosi, M.D.\n",
    "    2. University Hospital, Zurich, Switzerland: William Steinbrunn, M.D.\n",
    "    3. University Hospital, Basel, Switzerland: Matthias Pfisterer, M.D.\n",
    "    4. V.A. Medical Center, Long Beach and Cleveland Clinic Foundation: Robert Detrano, M.D., Ph.D.\n",
    "- Donor:\n",
    "    * David W. Aha (aha '@' ics.uci.edu) (714) 856-8779\n"
   ]
  },
  {
   "cell_type": "markdown",
   "id": "648ad305",
   "metadata": {},
   "source": [
    "# Data exploration"
   ]
  },
  {
   "cell_type": "code",
   "execution_count": 1,
   "id": "86c9618e",
   "metadata": {},
   "outputs": [],
   "source": [
    "import numpy as np\n",
    "import pandas as pd"
   ]
  },
  {
   "cell_type": "markdown",
   "id": "52a00d77",
   "metadata": {},
   "source": [
    "## Load the dataset"
   ]
  },
  {
   "cell_type": "code",
   "execution_count": 2,
   "id": "e7140e2f",
   "metadata": {},
   "outputs": [
    {
     "data": {
      "text/html": [
       "<div>\n",
       "<style scoped>\n",
       "    .dataframe tbody tr th:only-of-type {\n",
       "        vertical-align: middle;\n",
       "    }\n",
       "\n",
       "    .dataframe tbody tr th {\n",
       "        vertical-align: top;\n",
       "    }\n",
       "\n",
       "    .dataframe thead th {\n",
       "        text-align: right;\n",
       "    }\n",
       "</style>\n",
       "<table border=\"1\" class=\"dataframe\">\n",
       "  <thead>\n",
       "    <tr style=\"text-align: right;\">\n",
       "      <th></th>\n",
       "      <th>Age</th>\n",
       "      <th>Sex</th>\n",
       "      <th>ChestPainType</th>\n",
       "      <th>RestingBP</th>\n",
       "      <th>Cholesterol</th>\n",
       "      <th>FastingBS</th>\n",
       "      <th>RestingECG</th>\n",
       "      <th>MaxHR</th>\n",
       "      <th>ExerciseAngina</th>\n",
       "      <th>Oldpeak</th>\n",
       "      <th>ST_Slope</th>\n",
       "      <th>HeartDisease</th>\n",
       "    </tr>\n",
       "  </thead>\n",
       "  <tbody>\n",
       "    <tr>\n",
       "      <th>0</th>\n",
       "      <td>40</td>\n",
       "      <td>M</td>\n",
       "      <td>ATA</td>\n",
       "      <td>140</td>\n",
       "      <td>289</td>\n",
       "      <td>0</td>\n",
       "      <td>Normal</td>\n",
       "      <td>172</td>\n",
       "      <td>N</td>\n",
       "      <td>0.0</td>\n",
       "      <td>Up</td>\n",
       "      <td>0</td>\n",
       "    </tr>\n",
       "    <tr>\n",
       "      <th>1</th>\n",
       "      <td>49</td>\n",
       "      <td>F</td>\n",
       "      <td>NAP</td>\n",
       "      <td>160</td>\n",
       "      <td>180</td>\n",
       "      <td>0</td>\n",
       "      <td>Normal</td>\n",
       "      <td>156</td>\n",
       "      <td>N</td>\n",
       "      <td>1.0</td>\n",
       "      <td>Flat</td>\n",
       "      <td>1</td>\n",
       "    </tr>\n",
       "    <tr>\n",
       "      <th>2</th>\n",
       "      <td>37</td>\n",
       "      <td>M</td>\n",
       "      <td>ATA</td>\n",
       "      <td>130</td>\n",
       "      <td>283</td>\n",
       "      <td>0</td>\n",
       "      <td>ST</td>\n",
       "      <td>98</td>\n",
       "      <td>N</td>\n",
       "      <td>0.0</td>\n",
       "      <td>Up</td>\n",
       "      <td>0</td>\n",
       "    </tr>\n",
       "    <tr>\n",
       "      <th>3</th>\n",
       "      <td>48</td>\n",
       "      <td>F</td>\n",
       "      <td>ASY</td>\n",
       "      <td>138</td>\n",
       "      <td>214</td>\n",
       "      <td>0</td>\n",
       "      <td>Normal</td>\n",
       "      <td>108</td>\n",
       "      <td>Y</td>\n",
       "      <td>1.5</td>\n",
       "      <td>Flat</td>\n",
       "      <td>1</td>\n",
       "    </tr>\n",
       "    <tr>\n",
       "      <th>4</th>\n",
       "      <td>54</td>\n",
       "      <td>M</td>\n",
       "      <td>NAP</td>\n",
       "      <td>150</td>\n",
       "      <td>195</td>\n",
       "      <td>0</td>\n",
       "      <td>Normal</td>\n",
       "      <td>122</td>\n",
       "      <td>N</td>\n",
       "      <td>0.0</td>\n",
       "      <td>Up</td>\n",
       "      <td>0</td>\n",
       "    </tr>\n",
       "  </tbody>\n",
       "</table>\n",
       "</div>"
      ],
      "text/plain": [
       "   Age Sex ChestPainType  RestingBP  Cholesterol  FastingBS RestingECG  MaxHR  \\\n",
       "0   40   M           ATA        140          289          0     Normal    172   \n",
       "1   49   F           NAP        160          180          0     Normal    156   \n",
       "2   37   M           ATA        130          283          0         ST     98   \n",
       "3   48   F           ASY        138          214          0     Normal    108   \n",
       "4   54   M           NAP        150          195          0     Normal    122   \n",
       "\n",
       "  ExerciseAngina  Oldpeak ST_Slope  HeartDisease  \n",
       "0              N      0.0       Up             0  \n",
       "1              N      1.0     Flat             1  \n",
       "2              N      0.0       Up             0  \n",
       "3              Y      1.5     Flat             1  \n",
       "4              N      0.0       Up             0  "
      ]
     },
     "execution_count": 2,
     "metadata": {},
     "output_type": "execute_result"
    }
   ],
   "source": [
    "heart_df = pd.read_csv('heart.csv')\n",
    "heart_df.head()"
   ]
  },
  {
   "cell_type": "markdown",
   "id": "0b5e8ff6",
   "metadata": {
    "heading_collapsed": true
   },
   "source": [
    "## Get size of the dataset"
   ]
  },
  {
   "cell_type": "code",
   "execution_count": 3,
   "id": "75457f18",
   "metadata": {
    "hidden": true
   },
   "outputs": [
    {
     "name": "stdout",
     "output_type": "stream",
     "text": [
      "A number of column: 12\n",
      "A number of row: 918\n"
     ]
    }
   ],
   "source": [
    "row_size, col_size = heart_df.shape\n",
    "print(f'A number of column: {col_size}')\n",
    "print(f'A number of row: {row_size}')"
   ]
  },
  {
   "cell_type": "markdown",
   "id": "f7e3dc49",
   "metadata": {
    "heading_collapsed": true
   },
   "source": [
    "## Exploring the rows"
   ]
  },
  {
   "cell_type": "markdown",
   "id": "bd0f5387",
   "metadata": {
    "hidden": true
   },
   "source": [
    "### Meaning of each rows"
   ]
  },
  {
   "cell_type": "markdown",
   "id": "814cbfcb",
   "metadata": {
    "hidden": true
   },
   "source": [
    "- Each row represents the case which is recorded"
   ]
  },
  {
   "cell_type": "markdown",
   "id": "382a749a",
   "metadata": {
    "hidden": true
   },
   "source": [
    "### Check the duplicated row"
   ]
  },
  {
   "cell_type": "code",
   "execution_count": 4,
   "id": "ad0f9e90",
   "metadata": {
    "hidden": true
   },
   "outputs": [
    {
     "name": "stdout",
     "output_type": "stream",
     "text": [
      "Count the duplicated rows: 0\n"
     ]
    }
   ],
   "source": [
    "count_duplicated_row = heart_df.duplicated().sum()\n",
    "print(f\"Count the duplicated rows: {count_duplicated_row}\")"
   ]
  },
  {
   "cell_type": "markdown",
   "id": "21045410",
   "metadata": {
    "hidden": true
   },
   "source": [
    "* Dataset don't have the duplicated rows."
   ]
  },
  {
   "cell_type": "markdown",
   "id": "807f3856",
   "metadata": {},
   "source": [
    "## Exploring the columns"
   ]
  },
  {
   "cell_type": "markdown",
   "id": "e68c7787",
   "metadata": {},
   "source": [
    "### Meaning of the columns"
   ]
  },
  {
   "cell_type": "markdown",
   "id": "c98af487",
   "metadata": {},
   "source": [
    "|  | Attributre     | Description                                                                                          |\n",
    "|:------:|:---------------|:-----------------------------------------------------------------------------------------------------|\n",
    "| 1      | Age            | age of the patient [years]                                                                           |\n",
    "| 2      | Sex            | sex of the patient [M: Male, F: Female]                                                              |\n",
    "| 3      | ChestPainType  | chest pain type [TA: Typical Angina, ATA: Atypical Angina, NAP: Non-Anginal Pain, ASY: Asymptomatic] |\n",
    "| 4      | RestingBP      | resting blood pressure [mm Hg]                                                                       |\n",
    "| 5      | Cholesterol    | serum cholesterol [mm/dl]                                                                            |\n",
    "| 6      | FastingBS      | fasting blood sugar [1: if FastingBS > 120 mg/dl, 0: otherwise]                                      |\n",
    "| 7      | RestingECG     | resting electrocardiogram results [Normal, ST, LVH]                                                  |\n",
    "| 8      | MaxHR          | maximum heart rate achieved [Numeric value between 60 and 202]                                       |\n",
    "| 9      | ExerciseAngina | exercise-induced angina [Y: Yes, N: No]                                                              |\n",
    "| 10     | Oldpeak        | oldpeak = ST [Numeric value measured in depression]                                                  |\n",
    "| 11     | ST_Slope       | the slope of the peak exercise ST segment [Up: upsloping, Flat: flat, Down: downsloping]             |\n",
    "| 12     | HeartDisease   | output class [1: heart disease, 0: Normal]                                                           |"
   ]
  },
  {
   "cell_type": "markdown",
   "id": "f035a4b2",
   "metadata": {},
   "source": [
    "### Datatype of each columns"
   ]
  },
  {
   "cell_type": "code",
   "execution_count": 7,
   "id": "a8885775",
   "metadata": {},
   "outputs": [
    {
     "data": {
      "text/plain": [
       "Age                 int64\n",
       "Sex                object\n",
       "ChestPainType      object\n",
       "RestingBP           int64\n",
       "Cholesterol         int64\n",
       "FastingBS           int64\n",
       "RestingECG         object\n",
       "MaxHR               int64\n",
       "ExerciseAngina     object\n",
       "Oldpeak           float64\n",
       "ST_Slope           object\n",
       "HeartDisease        int64\n",
       "dtype: object"
      ]
     },
     "execution_count": 7,
     "metadata": {},
     "output_type": "execute_result"
    }
   ],
   "source": [
    "heart_df.dtypes"
   ]
  },
  {
   "cell_type": "code",
   "execution_count": null,
   "id": "086cc928",
   "metadata": {},
   "outputs": [],
   "source": []
  },
  {
   "cell_type": "code",
   "execution_count": null,
   "id": "8639073b",
   "metadata": {},
   "outputs": [],
   "source": []
  },
  {
   "cell_type": "code",
   "execution_count": null,
   "id": "bad88373",
   "metadata": {},
   "outputs": [],
   "source": []
  }
 ],
 "metadata": {
  "kernelspec": {
   "display_name": "Python 3 (ipykernel)",
   "language": "python",
   "name": "python3"
  },
  "language_info": {
   "codemirror_mode": {
    "name": "ipython",
    "version": 3
   },
   "file_extension": ".py",
   "mimetype": "text/x-python",
   "name": "python",
   "nbconvert_exporter": "python",
   "pygments_lexer": "ipython3",
   "version": "3.8.8"
  },
  "toc": {
   "base_numbering": 1,
   "nav_menu": {
    "height": "245.994px",
    "width": "391.918px"
   },
   "number_sections": true,
   "sideBar": true,
   "skip_h1_title": false,
   "title_cell": "Table of Contents",
   "title_sidebar": "Contents",
   "toc_cell": false,
   "toc_position": {
    "height": "calc(100% - 180px)",
    "left": "10px",
    "top": "150px",
    "width": "384.361px"
   },
   "toc_section_display": true,
   "toc_window_display": false
  },
  "varInspector": {
   "cols": {
    "lenName": 16,
    "lenType": 16,
    "lenVar": 40
   },
   "kernels_config": {
    "python": {
     "delete_cmd_postfix": "",
     "delete_cmd_prefix": "del ",
     "library": "var_list.py",
     "varRefreshCmd": "print(var_dic_list())"
    },
    "r": {
     "delete_cmd_postfix": ") ",
     "delete_cmd_prefix": "rm(",
     "library": "var_list.r",
     "varRefreshCmd": "cat(var_dic_list()) "
    }
   },
   "types_to_exclude": [
    "module",
    "function",
    "builtin_function_or_method",
    "instance",
    "_Feature"
   ],
   "window_display": false
  }
 },
 "nbformat": 4,
 "nbformat_minor": 5
}
